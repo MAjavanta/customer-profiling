{
 "cells": [
  {
   "cell_type": "code",
   "execution_count": 0,
   "metadata": {
    "application/vnd.databricks.v1+cell": {
     "cellMetadata": {
      "byteLimit": 2048000,
      "rowLimit": 10000
     },
     "inputWidgets": {},
     "nuid": "de0b72e0-2feb-4058-a202-b03e7dd04702",
     "showTitle": false,
     "tableResultSettingsMap": {},
     "title": ""
    }
   },
   "outputs": [],
   "source": [
    "from pyspark.sql.functions import *\n",
    "from pyspark.sql.types import *\n",
    "from pyspark.sql.window import Window\n",
    "from delta.tables import DeltaTable"
   ]
  },
  {
   "cell_type": "markdown",
   "metadata": {
    "application/vnd.databricks.v1+cell": {
     "cellMetadata": {
      "byteLimit": 2048000,
      "rowLimit": 10000
     },
     "inputWidgets": {},
     "nuid": "b186d8c4-7080-42b2-90c2-6afc818108a6",
     "showTitle": false,
     "tableResultSettingsMap": {},
     "title": ""
    }
   },
   "source": [
    "## Get last run time"
   ]
  },
  {
   "cell_type": "code",
   "execution_count": 0,
   "metadata": {
    "application/vnd.databricks.v1+cell": {
     "cellMetadata": {
      "byteLimit": 2048000,
      "rowLimit": 10000
     },
     "inputWidgets": {},
     "nuid": "4f3219b1-1225-4d2c-a82f-3b28e06af108",
     "showTitle": false,
     "tableResultSettingsMap": {},
     "title": ""
    }
   },
   "outputs": [],
   "source": [
    "last_ingest_df = spark.sql(\"SELECT last_timestamp FROM control.ctl.control_dates WHERE stage_name = 'silver_transformation'\")\n",
    "last_ingest_time = last_ingest_df.collect()[0]['last_timestamp']\n",
    "spark.conf.set(\"last_ingest_time\", str(last_ingest_time))"
   ]
  },
  {
   "cell_type": "markdown",
   "metadata": {
    "application/vnd.databricks.v1+cell": {
     "cellMetadata": {
      "byteLimit": 2048000,
      "rowLimit": 10000
     },
     "inputWidgets": {},
     "nuid": "73662adb-28da-4b52-97ba-ac94495dd83f",
     "showTitle": false,
     "tableResultSettingsMap": {},
     "title": ""
    }
   },
   "source": [
    "## Reading Data"
   ]
  },
  {
   "cell_type": "code",
   "execution_count": 0,
   "metadata": {
    "application/vnd.databricks.v1+cell": {
     "cellMetadata": {
      "byteLimit": 2048000,
      "implicitDf": true,
      "rowLimit": 10000
     },
     "inputWidgets": {},
     "nuid": "cb945dd3-25ee-4483-a74c-aaadea0fc37e",
     "showTitle": false,
     "tableResultSettingsMap": {},
     "title": ""
    }
   },
   "outputs": [],
   "source": [
    "%sql\n",
    "USE CATALOG bronze;"
   ]
  },
  {
   "cell_type": "code",
   "execution_count": 0,
   "metadata": {
    "application/vnd.databricks.v1+cell": {
     "cellMetadata": {
      "byteLimit": 2048000,
      "rowLimit": 10000
     },
     "inputWidgets": {},
     "nuid": "b120c40a-48eb-48f8-b74e-8a4d6726dd18",
     "showTitle": false,
     "tableResultSettingsMap": {},
     "title": ""
    }
   },
   "outputs": [],
   "source": [
    "df_s1 = spark.read.table(\"sales.transactions_s001\").filter(col(\"ingest_timestamp\") > spark.conf.get(\"last_ingest_time\"))\n",
    "df_s2 = spark.read.table(\"sales.transactions_s002\").filter(col(\"ingest_timestamp\") > spark.conf.get(\"last_ingest_time\"))"
   ]
  },
  {
   "cell_type": "markdown",
   "metadata": {
    "application/vnd.databricks.v1+cell": {
     "cellMetadata": {
      "byteLimit": 2048000,
      "rowLimit": 10000
     },
     "inputWidgets": {},
     "nuid": "04741031-5080-4bc8-b5cd-f3f5c5cb9ff0",
     "showTitle": false,
     "tableResultSettingsMap": {},
     "title": ""
    }
   },
   "source": [
    "Cleansing to be done:\n",
    "- combine into 1 dataframe\n",
    "- dedupe on transaction_id, keeping better data\n",
    "- check for valid prices\n",
    "- remove records with invalid customer or product"
   ]
  },
  {
   "cell_type": "code",
   "execution_count": 0,
   "metadata": {
    "application/vnd.databricks.v1+cell": {
     "cellMetadata": {
      "byteLimit": 2048000,
      "rowLimit": 10000
     },
     "inputWidgets": {},
     "nuid": "7b6af87e-cdce-4557-a246-bf9fe57d75bc",
     "showTitle": false,
     "tableResultSettingsMap": {},
     "title": ""
    }
   },
   "outputs": [],
   "source": [
    "df = df_s1.unionByName(df_s2).withColumn(\"ingest_timestamp\", date_format(col(\"ingest_timestamp\"), \"yyyy-MM-dd HH:mm:ss\"))"
   ]
  },
  {
   "cell_type": "code",
   "execution_count": 0,
   "metadata": {
    "application/vnd.databricks.v1+cell": {
     "cellMetadata": {
      "byteLimit": 2048000,
      "rowLimit": 10000
     },
     "inputWidgets": {},
     "nuid": "5ddeb943-7182-4a39-9bf3-d5df5887be72",
     "showTitle": false,
     "tableResultSettingsMap": {},
     "title": ""
    }
   },
   "outputs": [],
   "source": [
    "df = df.withColumn(\n",
    "    \"priority\",\n",
    "    when(col(\"customer_id\").isNotNull(), 1)\n",
    "    .when(col(\"product_id\") != \"INVALID\", 2)\n",
    "    .when(col(\"quantity\") > 0, 3)\n",
    "    .otherwise(4)\n",
    ")"
   ]
  },
  {
   "cell_type": "code",
   "execution_count": 0,
   "metadata": {
    "application/vnd.databricks.v1+cell": {
     "cellMetadata": {
      "byteLimit": 2048000,
      "rowLimit": 10000
     },
     "inputWidgets": {},
     "nuid": "1941fecc-2ef0-43ec-94f7-eb4914338178",
     "showTitle": false,
     "tableResultSettingsMap": {},
     "title": ""
    }
   },
   "outputs": [],
   "source": [
    "window_spec = Window.partitionBy(\"transaction_id\").orderBy(\"priority\")\n",
    "\n",
    "df = df\\\n",
    "    .withColumn(\"customer_id\", first(\"customer_id\", ignorenulls=True).over(window_spec))\\\n",
    "    .withColumn(\"product_id\", first(when(col(\"product_id\") != \"INVALID\", col(\"product_id\")).otherwise(None)).over(window_spec))\\\n",
    "    .withColumn(\"quantity\", first(when(col(\"quantity\") > 0, col(\"quantity\")).otherwise(None)).over(window_spec))\\\n",
    "    .drop(\"priority\")"
   ]
  },
  {
   "cell_type": "code",
   "execution_count": 0,
   "metadata": {
    "application/vnd.databricks.v1+cell": {
     "cellMetadata": {
      "byteLimit": 2048000,
      "rowLimit": 10000
     },
     "inputWidgets": {},
     "nuid": "f07b199f-c86f-4be9-a737-b8c6c8146571",
     "showTitle": false,
     "tableResultSettingsMap": {},
     "title": ""
    }
   },
   "outputs": [],
   "source": [
    "df = df.withColumn(\n",
    "        \"rn\",\n",
    "        row_number().over(Window.partitionBy(\"transaction_id\").orderBy(desc(\"ingest_timestamp\")))\n",
    "    ).filter(col(\"rn\") == 1).drop(\"rn\")"
   ]
  },
  {
   "cell_type": "code",
   "execution_count": 0,
   "metadata": {
    "application/vnd.databricks.v1+cell": {
     "cellMetadata": {
      "byteLimit": 2048000,
      "rowLimit": 10000
     },
     "inputWidgets": {},
     "nuid": "68c41b68-5dfb-47b8-a168-6f6bb6acb495",
     "showTitle": false,
     "tableResultSettingsMap": {},
     "title": ""
    }
   },
   "outputs": [],
   "source": [
    "if spark.catalog.tableExists(\"silver.sales.store_transactions\"):\n",
    "    max_surr_key = spark.sql(\"SELECT MAX(transaction_key) AS max_tran_key FROM silver.sales.store_transactions\").collect()[0]['max_tran_key']\n",
    "    df_existing_records = spark.sql(\"SELECT transaction_id, transaction_key, date_created, last_updated FROM silver.sales.store_transactions\")\n",
    "    trans_table_exists = True\n",
    "else:\n",
    "    df_existing_records = df.select(\"transaction_id\")\\\n",
    "        .withColumn(\"transaction_key\", lit(None)).withColumn(\"transaction_key\", col(\"transaction_key\").cast(IntegerType()))\\\n",
    "        .withColumn(\"date_created\", lit('1900-01-01 00:00:00')).withColumn(\"date_created\", col(\"date_created\").cast(TimestampType()))\\\n",
    "        .withColumn(\"last_updated\", lit('1900-01-01 00:00:00')).withColumn(\"last_updated\", col(\"last_updated\").cast(TimestampType()))\\\n",
    "        .filter(col(\"transaction_key\").isNotNull())\n",
    "    max_surr_key = 0\n",
    "    trans_table_exists = False\n",
    "\n",
    "df_existing_records = df_existing_records\\\n",
    "    .withColumnRenamed(\"transaction_key\", \"existing_transaction_key\")\\\n",
    "    .withColumnRenamed(\"transaction_id\", \"existing_transaction_id\")\\\n",
    "    .withColumnRenamed(\"date_created\", \"existing_date_created\")\\\n",
    "    .withColumnRenamed(\"last_updated\", \"existing_last_updated\")\n",
    "\n",
    "df_joined = df.join(df_existing_records, df.transaction_id == df_existing_records.existing_transaction_id, \"left\")\n",
    "df_existing_records = df_joined.filter(col(\"existing_transaction_key\").isNotNull())\n",
    "df_new_records = df_joined.filter(col(\"existing_transaction_key\").isNull())\n",
    "\n",
    "df_existing_records = df_existing_records\\\n",
    "    .withColumnRenamed(\"existing_transaction_key\", \"transaction_key\")\\\n",
    "    .withColumnRenamed(\"existing_date_created\", \"date_created\")\\\n",
    "    .withColumnRenamed(\"ingest_timestamp\", \"last_updated\")\\\n",
    "    .drop(\"existing_transaction_id\", \"existing_last_updated\")\n",
    "\n",
    "new_surr_key_window = Window.orderBy(\"transaction_id\")\n",
    "\n",
    "df_new_records = df_new_records\\\n",
    "    .withColumn(\"transaction_key\", row_number().over(new_surr_key_window) + lit(max_surr_key))\\\n",
    "    .withColumn(\"date_created\", col(\"ingest_timestamp\"))\\\n",
    "    .withColumn(\"last_updated\", col(\"ingest_timestamp\"))\\\n",
    "    .drop(\"ingest_timestamp\", \"existing_transaction_key\", \"existing_transaction_id\", \"existing_date_created\", \"existing_last_updated\")\n",
    "\n",
    "df_final = df_existing_records.unionByName(df_new_records)"
   ]
  },
  {
   "cell_type": "code",
   "execution_count": 0,
   "metadata": {
    "application/vnd.databricks.v1+cell": {
     "cellMetadata": {
      "byteLimit": 2048000,
      "rowLimit": 10000
     },
     "inputWidgets": {},
     "nuid": "c592dd70-56fc-48bf-a48e-f91d4e881d36",
     "showTitle": false,
     "tableResultSettingsMap": {},
     "title": ""
    }
   },
   "outputs": [],
   "source": [
    "if trans_table_exists:\n",
    "    dlt_trans = DeltaTable.forName(\"silver.sales.store_transactions\")\n",
    "    dlt_trans.alias(\"t\").merge(\n",
    "        df_final.alias(\"s\"),\n",
    "        \"t.transaction_id = s.transaction_id\",\n",
    "    ).whenMatchedUpdateAll().whenNotMatchedInsertAll().execute()\n",
    "else:\n",
    "    df_final.write.mode(\"overwrite\").saveAsTable(\"silver.sales.store_transactions\")"
   ]
  }
 ],
 "metadata": {
  "application/vnd.databricks.v1+notebook": {
   "computePreferences": null,
   "dashboards": [],
   "environmentMetadata": {
    "base_environment": "",
    "environment_version": "2"
   },
   "inputWidgetPreferences": null,
   "language": "python",
   "notebookMetadata": {
    "mostRecentlyExecutedCommandWithImplicitDF": {
     "commandId": 6849593536199166,
     "dataframes": [
      "_sqldf"
     ]
    },
    "pythonIndentUnit": 4
   },
   "notebookName": "Silver_Sales",
   "widgets": {}
  },
  "language_info": {
   "name": "python"
  }
 },
 "nbformat": 4,
 "nbformat_minor": 0
}
