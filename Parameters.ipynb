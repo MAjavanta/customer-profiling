{
 "cells": [
  {
   "cell_type": "code",
   "execution_count": 0,
   "metadata": {
    "application/vnd.databricks.v1+cell": {
     "cellMetadata": {
      "byteLimit": 2048000,
      "rowLimit": 10000
     },
     "inputWidgets": {},
     "nuid": "abcffcb5-653f-4d86-a6ca-3df32bedab5d",
     "showTitle": false,
     "tableResultSettingsMap": {},
     "title": ""
    }
   },
   "outputs": [],
   "source": [
    "from pyspark.sql.types import *\n",
    "import json"
   ]
  },
  {
   "cell_type": "code",
   "execution_count": 0,
   "metadata": {
    "application/vnd.databricks.v1+cell": {
     "cellMetadata": {
      "byteLimit": 2048000,
      "rowLimit": 10000
     },
     "inputWidgets": {},
     "nuid": "2b95ba21-dd1a-49ad-98c3-79b885af30ec",
     "showTitle": false,
     "tableResultSettingsMap": {},
     "title": ""
    }
   },
   "outputs": [],
   "source": [
    "products_schema = StructType([\n",
    "    StructField(\"product_id\", StringType(), True),\n",
    "    StructField(\"product_name\", StringType(), True),\n",
    "    StructField(\"category\", StringType(), True),\n",
    "    StructField(\"price\", DoubleType(), True),\n",
    "    StructField(\"active_flag\", BooleanType(), True),\n",
    "])\n",
    "\n",
    "products_schema_str = products_schema.json()"
   ]
  },
  {
   "cell_type": "code",
   "execution_count": 0,
   "metadata": {
    "application/vnd.databricks.v1+cell": {
     "cellMetadata": {},
     "inputWidgets": {},
     "nuid": "5dddc06d-e0db-48e3-85fc-88ba7d03f193",
     "showTitle": false,
     "tableResultSettingsMap": {},
     "title": ""
    }
   },
   "outputs": [],
   "source": [
    "sales_schema = StructType([\n",
    "    StructField(\"transaction_id\", StringType(), True),\n",
    "    StructField(\"customer_id\", StringType(), True),\n",
    "    StructField(\"product_id\", StringType(), True),\n",
    "    StructField(\"quantity\", IntegerType(), True),\n",
    "    StructField(\"price\", DoubleType(), True),\n",
    "    StructField(\"transaction_date\", DateType(), True),\n",
    "    StructField(\"store_id\", StringType(), True)\n",
    "])\n",
    "\n",
    "sales_schema_str = sales_schema.json()"
   ]
  },
  {
   "cell_type": "code",
   "execution_count": 0,
   "metadata": {
    "application/vnd.databricks.v1+cell": {
     "cellMetadata": {},
     "inputWidgets": {},
     "nuid": "1de96372-7b72-4927-a8bc-dd0f637ba3a0",
     "showTitle": false,
     "tableResultSettingsMap": {},
     "title": ""
    }
   },
   "outputs": [],
   "source": [
    "input_params = [\n",
    "    {\n",
    "        \"file_name\": \"contact_details\",\n",
    "        \"file_format\": \"csv\",\n",
    "        \"file_schema\": \"customers\",\n",
    "        \"json_schema\": \"\"\n",
    "    },\n",
    "    {\n",
    "        \"file_name\": \"contacted\",\n",
    "        \"file_format\": \"csv\",\n",
    "        \"file_schema\": \"customers\",\n",
    "        \"json_schema\": \"\"\n",
    "    },\n",
    "    {\n",
    "        \"file_name\": \"products\",\n",
    "        \"file_format\": \"json\",\n",
    "        \"file_schema\": \"products\",\n",
    "        \"json_schema\": products_schema_str\n",
    "    },\n",
    "    {\n",
    "        \"file_name\": \"transactions_S001\",\n",
    "        \"file_format\": \"json\",\n",
    "        \"file_schema\": \"sales\",\n",
    "        \"json_schema\": sales_schema_str\n",
    "    },\n",
    "    {\n",
    "        \"file_name\": \"transactions_S002\",\n",
    "        \"file_format\": \"json\",\n",
    "        \"file_schema\": \"sales\",\n",
    "        \"json_schema\": sales_schema_str\n",
    "    },\n",
    "]\n",
    "\n",
    "dbutils.jobs.taskValues.set(\"files_to_ingest\", input_params)"
   ]
  }
 ],
 "metadata": {
  "application/vnd.databricks.v1+notebook": {
   "computePreferences": null,
   "dashboards": [],
   "environmentMetadata": {
    "base_environment": "",
    "environment_version": "2"
   },
   "inputWidgetPreferences": null,
   "language": "python",
   "notebookMetadata": {
    "pythonIndentUnit": 4
   },
   "notebookName": "Parameters",
   "widgets": {}
  },
  "language_info": {
   "name": "python"
  }
 },
 "nbformat": 4,
 "nbformat_minor": 0
}
